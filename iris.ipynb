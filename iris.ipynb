{
 "metadata": {
  "language_info": {
   "codemirror_mode": {
    "name": "ipython",
    "version": 3
   },
   "file_extension": ".py",
   "mimetype": "text/x-python",
   "name": "python",
   "nbconvert_exporter": "python",
   "pygments_lexer": "ipython3",
   "version": "3.9.1"
  },
  "orig_nbformat": 4,
  "kernelspec": {
   "name": "python391jvsc74a57bd003312f31fb6f9fbb6c11ee8914bda41194786554ab2e0b228856ba6bf02519a7",
   "display_name": "Python",
   "language": "python"
  }
 },
 "nbformat": 4,
 "nbformat_minor": 2,
 "cells": [
  {
   "cell_type": "code",
   "execution_count": 1,
   "metadata": {},
   "outputs": [],
   "source": [
    "import pandas as pd\n",
    "import numpy as np"
   ]
  },
  {
   "cell_type": "code",
   "execution_count": 2,
   "metadata": {},
   "outputs": [
    {
     "output_type": "execute_result",
     "data": {
      "text/plain": [
       "   Id  SepalLengthCm  SepalWidthCm  PetalLengthCm  PetalWidthCm         Type\n",
       "0   1            5.1           3.5            1.4           0.2  Iris-setosa\n",
       "1   2            4.9           3.0            1.4           0.2  Iris-setosa\n",
       "2   3            4.7           3.2            1.3           0.2  Iris-setosa\n",
       "3   4            4.6           3.1            1.5           0.2  Iris-setosa"
      ],
      "text/html": "<div>\n<style scoped>\n    .dataframe tbody tr th:only-of-type {\n        vertical-align: middle;\n    }\n\n    .dataframe tbody tr th {\n        vertical-align: top;\n    }\n\n    .dataframe thead th {\n        text-align: right;\n    }\n</style>\n<table border=\"1\" class=\"dataframe\">\n  <thead>\n    <tr style=\"text-align: right;\">\n      <th></th>\n      <th>Id</th>\n      <th>SepalLengthCm</th>\n      <th>SepalWidthCm</th>\n      <th>PetalLengthCm</th>\n      <th>PetalWidthCm</th>\n      <th>Type</th>\n    </tr>\n  </thead>\n  <tbody>\n    <tr>\n      <th>0</th>\n      <td>1</td>\n      <td>5.1</td>\n      <td>3.5</td>\n      <td>1.4</td>\n      <td>0.2</td>\n      <td>Iris-setosa</td>\n    </tr>\n    <tr>\n      <th>1</th>\n      <td>2</td>\n      <td>4.9</td>\n      <td>3.0</td>\n      <td>1.4</td>\n      <td>0.2</td>\n      <td>Iris-setosa</td>\n    </tr>\n    <tr>\n      <th>2</th>\n      <td>3</td>\n      <td>4.7</td>\n      <td>3.2</td>\n      <td>1.3</td>\n      <td>0.2</td>\n      <td>Iris-setosa</td>\n    </tr>\n    <tr>\n      <th>3</th>\n      <td>4</td>\n      <td>4.6</td>\n      <td>3.1</td>\n      <td>1.5</td>\n      <td>0.2</td>\n      <td>Iris-setosa</td>\n    </tr>\n  </tbody>\n</table>\n</div>"
     },
     "metadata": {},
     "execution_count": 2
    }
   ],
   "source": [
    "df=pd.read_csv(r\"iris.csv\",encoding='utf-8')\n",
    "df=df.rename(columns={'Species':'Type'})\n",
    "df[:4]"
   ]
  },
  {
   "cell_type": "code",
   "execution_count": 3,
   "metadata": {},
   "outputs": [],
   "source": [
    "class Node():\n",
    "    def __init__(self,threshold_value=None,feature_index=None,left=None,right=None,value=None,info_gain=None):\n",
    "        self.threshold_value=threshold_value\n",
    "        self.feature_index=feature_index\n",
    "        self.left=left\n",
    "        self.right=right\n",
    "        self.info_gain=info_gain\n",
    "        self.value=value \n",
    "        \n"
   ]
  },
  {
   "cell_type": "code",
   "execution_count": null,
   "metadata": {},
   "outputs": [],
   "source": [
    "class Classifier():\n",
    "    def __init__(self,min_sample,max_depth):\n",
    "\n",
    "        self.root=None\n",
    "         #break condition\n",
    "        self.min_sample=min_sample\n",
    "        self.max_depth=max_depth\n",
    "\n",
    "    \n",
    "    def split_data(self,dataset,feature_index,threshold_value):\n",
    "        left_split=np.array([row for row in dataset where row[feature_index]<=threshold_value])\n",
    "        right_split=np.array([row for row in dataset where row[feature_index]>threshold_value])\n",
    "\n",
    "        return left_split,right_split\n",
    "\n",
    "    def get_best_split(self,dataset,feature_count,samples_count):\n",
    "        best_split={}\n",
    "        info_gain=-float('inf')\n",
    "\n",
    "        for feature_index in range(features_count):\n",
    "            feture_values=dataset[:,feature_index]\n",
    "            feature_values=np.unique(feature_values)\n",
    "\n",
    "            for threshold_value in feature_values:\n",
    "                left_split,right_split=self.split_data(dataset,feature_index,threshold_value)    #\n",
    "\n",
    "\n",
    "\n",
    "\n",
    "    def binaryTree(self,current_depth=0,dataset):\n",
    "        \n",
    "        X=dataset[:,:-1]\n",
    "        Y=dataset[:,-1]\n",
    "        samples_count,features_count=np.shape(X)\n",
    "\n",
    "        if samples_count>=min_sample and current_depth<=max_depth:\n",
    "\n",
    "            best_split=self.get_best_split(dataset,samples_count,features_count)   ###\n",
    "\n"
   ]
  }
 ]
}